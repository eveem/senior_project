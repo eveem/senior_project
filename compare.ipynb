{
 "cells": [
  {
   "cell_type": "code",
   "execution_count": 1,
   "metadata": {},
   "outputs": [],
   "source": [
    "import pandas as pd"
   ]
  },
  {
   "cell_type": "code",
   "execution_count": 2,
   "metadata": {},
   "outputs": [],
   "source": [
    "df = pd.read_csv('./project_words_edit.csv')"
   ]
  },
  {
   "cell_type": "code",
   "execution_count": 3,
   "metadata": {},
   "outputs": [],
   "source": [
    "# df"
   ]
  },
  {
   "cell_type": "code",
   "execution_count": 4,
   "metadata": {},
   "outputs": [],
   "source": [
    "from pythainlp.tokenize import word_tokenize"
   ]
  },
  {
   "cell_type": "code",
   "execution_count": 5,
   "metadata": {},
   "outputs": [],
   "source": [
    "# {\n",
    "#     '107': [['ปลงพระชนม์'], ['พระมหากษัตริย์'], ['พยายาม', 'ตระเตรียม', 'ปกปิด'], []], \n",
    "#     '108': [['ประทุษร้าย'], ['พระมหากษัตริย์'], ['พยายาม', 'ตระเตรียม', 'ปกปิด'], []], \n",
    "#     '109':\n",
    "#     ...\n",
    "# }"
   ]
  },
  {
   "cell_type": "code",
   "execution_count": 6,
   "metadata": {},
   "outputs": [],
   "source": [
    "data = {}\n",
    "\n",
    "for index, row in df.iterrows():\n",
    "    if type(row['Verb']) is str:\n",
    "        a = set()\n",
    "        x = row['Verb'].split(', ')\n",
    "        for i in x:\n",
    "            jj = word_tokenize(i)\n",
    "            for j in jj:\n",
    "                a.add(j)\n",
    "    \n",
    "    if type(row['Noun']) is str:\n",
    "        b = set()\n",
    "        x = row['Noun'].split(', ')\n",
    "        for i in x:\n",
    "            jj = word_tokenize(i)\n",
    "            for j in jj:\n",
    "                b.add(j)\n",
    "    \n",
    "    if type(row['Extra']) is str:\n",
    "        c = set()\n",
    "        x = row['Extra'].split(', ')\n",
    "        for i in x:\n",
    "            jj = word_tokenize(i)\n",
    "            for j in jj:\n",
    "                c.add(j)\n",
    "    if type(row['Penal No.']) is str or type(row['Penal No.']) is int:\n",
    "        data[str(row['Penal No.'])] = [a, b, c]"
   ]
  },
  {
   "cell_type": "code",
   "execution_count": 7,
   "metadata": {},
   "outputs": [],
   "source": [
    "for index, row in df.iterrows():\n",
    "    if type(row['Inherit [เอา v + n ข้อนั้น แต่ต้อง ^ extra]']) is str:\n",
    "        x = row['Inherit [เอา v + n ข้อนั้น แต่ต้อง ^ extra]'].split(', ')\n",
    "        a = []\n",
    "        b = []\n",
    "        c = []\n",
    "        for i in x:\n",
    "            if i in data:\n",
    "                a += data[i][0]\n",
    "                b += data[i][1]\n",
    "                c += data[i][2]\n",
    "        data[row['Penal No.']] = [a, b, c]"
   ]
  },
  {
   "cell_type": "code",
   "execution_count": 8,
   "metadata": {},
   "outputs": [],
   "source": [
    "import operator"
   ]
  },
  {
   "cell_type": "code",
   "execution_count": 9,
   "metadata": {},
   "outputs": [],
   "source": [
    "point = {}\n",
    "\n",
    "for i in range(2, 41):\n",
    "    r = {}\n",
    "    x = str(i).zfill(4)\n",
    "    f = open('./new_input/{}.txt'.format(x))\n",
    "    words = []\n",
    "    for idx, line in enumerate(f):\n",
    "        if idx == 0:\n",
    "            words = word_tokenize(line)\n",
    "        else:\n",
    "            words += word_tokenize(line)\n",
    "    \n",
    "    for d in data:\n",
    "        ck = 0\n",
    "        for w in words:\n",
    "            if w in data[d][0]:\n",
    "                ck += 1\n",
    "            if w in data[d][1]:\n",
    "                ck += 1\n",
    "            if w in data[d][2]:\n",
    "                ck += 1\n",
    "        r[d] = ck\n",
    "    sorted_r = sorted(r.items(), key=operator.itemgetter(1))\n",
    "    ff = open('./new_result_conclusion/{}.txt'.format(x), 'w')\n",
    "    for j in sorted_r:\n",
    "        ff.write(str(j) + '\\n')"
   ]
  },
  {
   "cell_type": "code",
   "execution_count": null,
   "metadata": {},
   "outputs": [],
   "source": []
  }
 ],
 "metadata": {
  "kernelspec": {
   "display_name": "Python 3",
   "language": "python",
   "name": "python3"
  },
  "language_info": {
   "codemirror_mode": {
    "name": "ipython",
    "version": 3
   },
   "file_extension": ".py",
   "mimetype": "text/x-python",
   "name": "python",
   "nbconvert_exporter": "python",
   "pygments_lexer": "ipython3",
   "version": "3.7.2"
  }
 },
 "nbformat": 4,
 "nbformat_minor": 2
}
