{
 "cells": [
  {
   "cell_type": "code",
   "execution_count": 170,
   "metadata": {},
   "outputs": [],
   "source": [
    "import pandas as pd\n",
    "\n",
    "df = pd.read_csv('project_words_edit.csv')"
   ]
  },
  {
   "cell_type": "code",
   "execution_count": 55,
   "metadata": {},
   "outputs": [],
   "source": [
    "import math"
   ]
  },
  {
   "cell_type": "code",
   "execution_count": 173,
   "metadata": {},
   "outputs": [],
   "source": [
    "def check_con(a):\n",
    "    if (a >= 161 and a <= 171):\n",
    "        return True\n",
    "    if (a >= 229 and a <= 263):\n",
    "        return True\n",
    "    if (a >= 264 and a <= 289):\n",
    "        return True\n",
    "    if (a >= 290 and a <= 323):\n",
    "        return True\n",
    "    return False"
   ]
  },
  {
   "cell_type": "code",
   "execution_count": 174,
   "metadata": {},
   "outputs": [],
   "source": [
    "code_dict = {}\n",
    "\n",
    "words = set()\n",
    "\n",
    "wo1 = set()\n",
    "wo2 = set()\n",
    "wo3 = set()\n",
    "wo4 = set()\n",
    "\n",
    "ff = {}\n",
    "\n",
    "for idx, row in df.iterrows():\n",
    "#     print(row)\n",
    "#     print(check_con(idx), idx)\n",
    "    tmp = []\n",
    "    ck = False\n",
    "    try:\n",
    "        ck = math.isnan(row['Verb'])\n",
    "    except:\n",
    "        ck = False\n",
    "    if not ck:\n",
    "        try:\n",
    "            v = row['Verb'].split(', ')\n",
    "        except:\n",
    "            v = row['Verb']\n",
    "    else:\n",
    "        v = ''\n",
    "\n",
    "    for word in v:\n",
    "        if (idx >= 161 and idx <= 171):\n",
    "            wo1.add(word)\n",
    "        if (idx >= 229 and idx <= 263):\n",
    "            wo2.add(word)\n",
    "        if (idx >= 264 and idx <= 289):\n",
    "            wo3.add(word)\n",
    "        if (idx >= 290 and idx <= 323):\n",
    "            wo4.add(word)\n",
    "        words.add(word)\n",
    "        tmp.append(word)\n",
    "        \n",
    "    ck = False\n",
    "    try:\n",
    "        ck = math.isnan(row['Noun'])\n",
    "    except:\n",
    "        ck = False\n",
    "    if not ck:\n",
    "        try:\n",
    "            v = row['Noun'].split(', ')\n",
    "        except:\n",
    "            v = row['Noun']\n",
    "    else:\n",
    "        v = ''\n",
    "\n",
    "    for word in v:\n",
    "        if (idx >= 161 and idx <= 171):\n",
    "            wo1.add(word)\n",
    "        if (idx >= 229 and idx <= 263):\n",
    "            wo2.add(word)\n",
    "        if (idx >= 264 and idx <= 289):\n",
    "            wo3.add(word)\n",
    "        if (idx >= 290 and idx <= 323):\n",
    "            wo4.add(word)\n",
    "        words.add(word)\n",
    "        tmp.append(word)\n",
    "\n",
    "    ck = False\n",
    "    try:\n",
    "        ck = math.isnan(row['Extra'])\n",
    "    except:\n",
    "        ck = False\n",
    "    if not ck:\n",
    "        try:\n",
    "            v = row['Extra'].split(', ')\n",
    "        except:\n",
    "            v = row['Extra']\n",
    "    else:\n",
    "        v = ''\n",
    "\n",
    "    for word in v:\n",
    "        if (idx >= 161 and idx <= 171):\n",
    "            wo1.add(word)\n",
    "        if (idx >= 229 and idx <= 263):\n",
    "            wo2.add(word)\n",
    "        if (idx >= 264 and idx <= 289):\n",
    "            wo3.add(word)\n",
    "        if (idx >= 290 and idx <= 323):\n",
    "            wo4.add(word)\n",
    "        words.add(word)\n",
    "        tmp.append(word)\n",
    "    \n",
    "    ck = False\n",
    "    try:\n",
    "        ck = math.isnan(row['Inherit [เอา v + n ข้อนั้น แต่ต้อง ^ extra]'])\n",
    "    except:\n",
    "        ck = False\n",
    "    if not ck:\n",
    "        try:\n",
    "            v = row['Inherit [เอา v + n ข้อนั้น แต่ต้อง ^ extra]'].split(', ')\n",
    "        except:\n",
    "            v = row['Inherit [เอา v + n ข้อนั้น แต่ต้อง ^ extra]']\n",
    "    else:\n",
    "        v = []\n",
    "\n",
    "    if check_con(idx) and v != []:\n",
    "        ff[row['Penal No.']] = v\n",
    "            \n",
    "    if check_con(idx):\n",
    "        code_dict[row['Penal No.']] = tmp"
   ]
  },
  {
   "cell_type": "code",
   "execution_count": 175,
   "metadata": {},
   "outputs": [],
   "source": [
    "for i in ff:\n",
    "    for j in ff[i]:\n",
    "        try:\n",
    "            code_dict[i] += code_dict[j]\n",
    "        except:\n",
    "            if i == '280':\n",
    "                code_dict[i] += code_dict['280(1)']\n",
    "                code_dict[i] += code_dict['280(2)']\n",
    "            if i == '289':\n",
    "                for k in range(1, 8):\n",
    "                    code_dict[i] += code_dict['289({})'.format(k)]"
   ]
  },
  {
   "cell_type": "code",
   "execution_count": 176,
   "metadata": {},
   "outputs": [],
   "source": [
    "new_dict = wo1 | wo2 | wo3 | wo4"
   ]
  },
  {
   "cell_type": "code",
   "execution_count": 177,
   "metadata": {},
   "outputs": [],
   "source": [
    "f = open('new_dict.txt', 'w+')\n",
    "for i in new_dict:\n",
    "    f.write(i + '\\n')"
   ]
  },
  {
   "cell_type": "code",
   "execution_count": 178,
   "metadata": {},
   "outputs": [],
   "source": [
    "from pythainlp.tokenize import dict_word_tokenize, create_custom_dict_trie\n",
    "data_dict = create_custom_dict_trie(\"new_dict.txt\")"
   ]
  },
  {
   "cell_type": "code",
   "execution_count": 179,
   "metadata": {},
   "outputs": [],
   "source": [
    "df = pd.read_csv('police_record.csv')"
   ]
  },
  {
   "cell_type": "code",
   "execution_count": 192,
   "metadata": {},
   "outputs": [
    {
     "name": "stdout",
     "output_type": "stream",
     "text": [
      "(7, '348')\n",
      "(2, '366')\n",
      "(4, '360')\n",
      "(1, '360')\n",
      "EIEI\n",
      "(2, '333')\n",
      "(4, '348')\n",
      "(3, '348')\n",
      "(3, '333')\n",
      "(7, '337')\n",
      "(2, '349')\n",
      "(3, '356')\n",
      "(2, '366')\n",
      "(2, '348')\n",
      "(1, '356')\n",
      "(1, '356')\n",
      "(2, '356')\n",
      "(1, '333')\n",
      "EIEI\n",
      "(1, '285')\n",
      "(1, '360')\n",
      "(1, '360')\n",
      "(3, '356')\n",
      "(1, '360')\n",
      "(1, '285')\n",
      "(2, '357')\n",
      "(3, '348')\n",
      "EIEI\n",
      "(5, '348')\n",
      "(3, '360')\n",
      "(1, '356')\n",
      "(1, '366')\n",
      "(1, '289(2)')\n",
      "(2, '348')\n",
      "(1, '365')\n",
      "(1, '356')\n",
      "EIEI\n",
      "(5, '365')\n",
      "(3, '348')\n"
     ]
    }
   ],
   "source": [
    "mx = set()\n",
    "\n",
    "for idx, row in df.iterrows():\n",
    "    xx = {}\n",
    "    text = row['Text']\n",
    "#     text = row['Conclusion']\n",
    "    words = dict_word_tokenize(text, data_dict, engine='newmm')\n",
    "    for word in words:\n",
    "        if word in new_dict:\n",
    "            for i in code_dict:\n",
    "                if word in code_dict[i]:\n",
    "                    if i not in xx:\n",
    "                        xx[i] = 1\n",
    "                    else:\n",
    "                        xx[i] += 1\n",
    "    try:\n",
    "        print(max(zip(xx.values(), xx.keys())))\n",
    "        mx.add(max(zip(xx.values(), xx.keys()))[1])\n",
    "    except:\n",
    "        print('EIEI')\n",
    "#     yy = row['Labels'].replace('[', '').replace(']', '').replace('\\'', '')\n",
    "#     yy = yy.split(', ')\n",
    "#     for i in xx:\n",
    "#         for j in yy:\n",
    "#             if i == j:\n",
    "#                 print(i, xx[i], max(zip(xx.values(), xx.keys())))"
   ]
  },
  {
   "cell_type": "code",
   "execution_count": 193,
   "metadata": {},
   "outputs": [
    {
     "data": {
      "text/plain": [
       "{'285',\n",
       " '289(2)',\n",
       " '333',\n",
       " '337',\n",
       " '348',\n",
       " '349',\n",
       " '356',\n",
       " '357',\n",
       " '360',\n",
       " '365',\n",
       " '366'}"
      ]
     },
     "execution_count": 193,
     "metadata": {},
     "output_type": "execute_result"
    }
   ],
   "source": [
    "mx"
   ]
  },
  {
   "cell_type": "code",
   "execution_count": null,
   "metadata": {},
   "outputs": [],
   "source": []
  }
 ],
 "metadata": {
  "kernelspec": {
   "display_name": "Python 3",
   "language": "python",
   "name": "python3"
  },
  "language_info": {
   "codemirror_mode": {
    "name": "ipython",
    "version": 3
   },
   "file_extension": ".py",
   "mimetype": "text/x-python",
   "name": "python",
   "nbconvert_exporter": "python",
   "pygments_lexer": "ipython3",
   "version": "3.7.2"
  }
 },
 "nbformat": 4,
 "nbformat_minor": 2
}
