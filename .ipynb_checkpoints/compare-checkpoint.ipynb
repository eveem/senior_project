{
 "cells": [
  {
   "cell_type": "code",
   "execution_count": 1,
   "metadata": {},
   "outputs": [],
   "source": [
    "import pandas as pd"
   ]
  },
  {
   "cell_type": "code",
   "execution_count": 2,
   "metadata": {},
   "outputs": [],
   "source": [
    "df = pd.read_csv('./project_words.csv')"
   ]
  },
  {
   "cell_type": "code",
   "execution_count": 3,
   "metadata": {},
   "outputs": [],
   "source": [
    "# df"
   ]
  },
  {
   "cell_type": "code",
   "execution_count": 4,
   "metadata": {},
   "outputs": [],
   "source": [
    "from pythainlp.tokenize import word_tokenize"
   ]
  },
  {
   "cell_type": "code",
   "execution_count": 5,
   "metadata": {},
   "outputs": [],
   "source": [
    "# {\n",
    "#     '107': [['ปลงพระชนม์'], ['พระมหากษัตริย์'], ['พยายาม', 'ตระเตรียม', 'ปกปิด'], []], \n",
    "#     '108': [['ประทุษร้าย'], ['พระมหากษัตริย์'], ['พยายาม', 'ตระเตรียม', 'ปกปิด'], []], \n",
    "#     '109':\n",
    "#     ...\n",
    "# }"
   ]
  },
  {
   "cell_type": "code",
   "execution_count": 6,
   "metadata": {},
   "outputs": [],
   "source": [
    "data = {}\n",
    "\n",
    "for index, row in df.iterrows():\n",
    "    if type(row['Verb']) is str:\n",
    "        a = set()\n",
    "        x = row['Verb'].split(', ')\n",
    "        for i in x:\n",
    "            jj = word_tokenize(i)\n",
    "            for j in jj:\n",
    "                a.add(j)\n",
    "    \n",
    "    if type(row['Noun']) is str:\n",
    "        b = set()\n",
    "        x = row['Noun'].split(', ')\n",
    "        for i in x:\n",
    "            jj = word_tokenize(i)\n",
    "            for j in jj:\n",
    "                b.add(j)\n",
    "    \n",
    "    if type(row['Extra']) is str:\n",
    "        c = set()\n",
    "        x = row['Extra'].split(', ')\n",
    "        for i in x:\n",
    "            jj = word_tokenize(i)\n",
    "            for j in jj:\n",
    "                c.add(j)\n",
    "    if type(row['Penal No.']) is str:\n",
    "        data[row['Penal No.']] = [a, b, c]"
   ]
  },
  {
   "cell_type": "code",
   "execution_count": 7,
   "metadata": {},
   "outputs": [],
   "source": [
    "for index, row in df.iterrows():\n",
    "    if type(row['Inherit [เอา v + n ข้อนั้น แต่ต้อง ^ extra]']) is str:\n",
    "        x = row['Inherit [เอา v + n ข้อนั้น แต่ต้อง ^ extra]'].split(', ')\n",
    "        a = []\n",
    "        b = []\n",
    "        c = []\n",
    "        for i in x:\n",
    "            if i in data:\n",
    "                a += data[i][0]\n",
    "                b += data[i][1]\n",
    "                c += data[i][2]\n",
    "        data[row['Penal No.']] = [a, b, c]"
   ]
  },
  {
   "cell_type": "code",
   "execution_count": 11,
   "metadata": {},
   "outputs": [
    {
     "ename": "AttributeError",
     "evalue": "'int' object has no attribute 'zfill'",
     "output_type": "error",
     "traceback": [
      "\u001b[0;31m---------------------------------------------------------------------------\u001b[0m",
      "\u001b[0;31mAttributeError\u001b[0m                            Traceback (most recent call last)",
      "\u001b[0;32m<ipython-input-11-682682b8e394>\u001b[0m in \u001b[0;36m<module>\u001b[0;34m\u001b[0m\n\u001b[1;32m      1\u001b[0m \u001b[0;32mfor\u001b[0m \u001b[0mi\u001b[0m \u001b[0;32min\u001b[0m \u001b[0mrange\u001b[0m\u001b[0;34m(\u001b[0m\u001b[0;36m2\u001b[0m\u001b[0;34m,\u001b[0m \u001b[0;36m41\u001b[0m\u001b[0;34m)\u001b[0m\u001b[0;34m:\u001b[0m\u001b[0;34m\u001b[0m\u001b[0m\n\u001b[0;32m----> 2\u001b[0;31m     \u001b[0mprint\u001b[0m\u001b[0;34m(\u001b[0m\u001b[0mi\u001b[0m\u001b[0;34m.\u001b[0m\u001b[0mzfill\u001b[0m\u001b[0;34m(\u001b[0m\u001b[0;34m)\u001b[0m\u001b[0;34m)\u001b[0m\u001b[0;34m\u001b[0m\u001b[0m\n\u001b[0m",
      "\u001b[0;31mAttributeError\u001b[0m: 'int' object has no attribute 'zfill'"
     ]
    }
   ],
   "source": [
    "for i in range(2, 41):\n",
    "    print(i.zfill())"
   ]
  },
  {
   "cell_type": "code",
   "execution_count": null,
   "metadata": {},
   "outputs": [],
   "source": []
  },
  {
   "cell_type": "code",
   "execution_count": null,
   "metadata": {},
   "outputs": [],
   "source": []
  }
 ],
 "metadata": {
  "kernelspec": {
   "display_name": "Python 3",
   "language": "python",
   "name": "python3"
  },
  "language_info": {
   "codemirror_mode": {
    "name": "ipython",
    "version": 3
   },
   "file_extension": ".py",
   "mimetype": "text/x-python",
   "name": "python",
   "nbconvert_exporter": "python",
   "pygments_lexer": "ipython3",
   "version": "3.5.2"
  }
 },
 "nbformat": 4,
 "nbformat_minor": 2
}
