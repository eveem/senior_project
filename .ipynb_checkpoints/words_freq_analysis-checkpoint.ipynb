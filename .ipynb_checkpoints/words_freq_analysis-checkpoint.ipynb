{
 "cells": [
  {
   "cell_type": "code",
   "execution_count": 28,
   "metadata": {},
   "outputs": [],
   "source": [
    "import pandas as pd\n",
    "from pythainlp.tokenize import word_tokenize"
   ]
  },
  {
   "cell_type": "code",
   "execution_count": 29,
   "metadata": {},
   "outputs": [
    {
     "data": {
      "text/html": [
       "<div>\n",
       "<style scoped>\n",
       "    .dataframe tbody tr th:only-of-type {\n",
       "        vertical-align: middle;\n",
       "    }\n",
       "\n",
       "    .dataframe tbody tr th {\n",
       "        vertical-align: top;\n",
       "    }\n",
       "\n",
       "    .dataframe thead th {\n",
       "        text-align: right;\n",
       "    }\n",
       "</style>\n",
       "<table border=\"1\" class=\"dataframe\">\n",
       "  <thead>\n",
       "    <tr style=\"text-align: right;\">\n",
       "      <th></th>\n",
       "      <th>Unnamed: 0</th>\n",
       "      <th>NO</th>\n",
       "      <th>Text</th>\n",
       "    </tr>\n",
       "  </thead>\n",
       "  <tbody>\n",
       "    <tr>\n",
       "      <th>0</th>\n",
       "      <td>0</td>\n",
       "      <td>276</td>\n",
       "      <td>ผู้ใดข่มขืนกระทำชำเราผู้อื่นโดยขู่เข็ญด้วยประก...</td>\n",
       "    </tr>\n",
       "    <tr>\n",
       "      <th>1</th>\n",
       "      <td>1</td>\n",
       "      <td>277</td>\n",
       "      <td>ผู้ใดกระทำชำเราเด็กอายุยังไม่เกินสิบห้าปีซึ่งม...</td>\n",
       "    </tr>\n",
       "    <tr>\n",
       "      <th>2</th>\n",
       "      <td>2</td>\n",
       "      <td>277ทวิ(1)</td>\n",
       "      <td>ผู้ใดข่มขืนกระทำชำเราผู้อื่นโดยขู่เข็ญด้วยประก...</td>\n",
       "    </tr>\n",
       "    <tr>\n",
       "      <th>3</th>\n",
       "      <td>3</td>\n",
       "      <td>277ทวิ(2)</td>\n",
       "      <td>ผู้ใดข่มขืนกระทำชำเราผู้อื่นโดยขู่เข็ญด้วยประก...</td>\n",
       "    </tr>\n",
       "    <tr>\n",
       "      <th>4</th>\n",
       "      <td>4</td>\n",
       "      <td>277ตรี(1)</td>\n",
       "      <td>ถ้าการกระทำความผิดตามวรรคหนึ่งได้กระทำโดยมีหรื...</td>\n",
       "    </tr>\n",
       "  </tbody>\n",
       "</table>\n",
       "</div>"
      ],
      "text/plain": [
       "   Unnamed: 0         NO                                               Text\n",
       "0           0        276  ผู้ใดข่มขืนกระทำชำเราผู้อื่นโดยขู่เข็ญด้วยประก...\n",
       "1           1        277  ผู้ใดกระทำชำเราเด็กอายุยังไม่เกินสิบห้าปีซึ่งม...\n",
       "2           2  277ทวิ(1)  ผู้ใดข่มขืนกระทำชำเราผู้อื่นโดยขู่เข็ญด้วยประก...\n",
       "3           3  277ทวิ(2)  ผู้ใดข่มขืนกระทำชำเราผู้อื่นโดยขู่เข็ญด้วยประก...\n",
       "4           4  277ตรี(1)  ถ้าการกระทำความผิดตามวรรคหนึ่งได้กระทำโดยมีหรื..."
      ]
     },
     "execution_count": 29,
     "metadata": {},
     "output_type": "execute_result"
    }
   ],
   "source": [
    "df = pd.read_csv('./final_process/law_text.csv')\n",
    "df.head()"
   ]
  },
  {
   "cell_type": "code",
   "execution_count": 34,
   "metadata": {},
   "outputs": [],
   "source": [
    "# import deepcut\n",
    "\n",
    "wc = []\n",
    "ts = []\n",
    "tns = []\n",
    "\n",
    "for idx, row in df.iterrows():\n",
    "#     words = deepcut.tokenize(row['Text'])\n",
    "    words = word_tokenize(row['Text'])\n",
    "    wc.append(len(words))\n",
    "    ts.append(' '.join(words))\n",
    "    tns.append(''.join(words))"
   ]
  },
  {
   "cell_type": "code",
   "execution_count": 35,
   "metadata": {},
   "outputs": [],
   "source": [
    "df['word_count'] = wc\n",
    "df['text_no_space'] = tns\n",
    "df['text_space_pythai'] = ts"
   ]
  },
  {
   "cell_type": "code",
   "execution_count": 36,
   "metadata": {},
   "outputs": [
    {
     "data": {
      "text/html": [
       "<div>\n",
       "<style scoped>\n",
       "    .dataframe tbody tr th:only-of-type {\n",
       "        vertical-align: middle;\n",
       "    }\n",
       "\n",
       "    .dataframe tbody tr th {\n",
       "        vertical-align: top;\n",
       "    }\n",
       "\n",
       "    .dataframe thead th {\n",
       "        text-align: right;\n",
       "    }\n",
       "</style>\n",
       "<table border=\"1\" class=\"dataframe\">\n",
       "  <thead>\n",
       "    <tr style=\"text-align: right;\">\n",
       "      <th></th>\n",
       "      <th>Unnamed: 0</th>\n",
       "      <th>NO</th>\n",
       "      <th>Text</th>\n",
       "      <th>word_count</th>\n",
       "      <th>text_no_space</th>\n",
       "      <th>text_space_pythai</th>\n",
       "    </tr>\n",
       "  </thead>\n",
       "  <tbody>\n",
       "    <tr>\n",
       "      <th>0</th>\n",
       "      <td>0</td>\n",
       "      <td>276</td>\n",
       "      <td>ผู้ใดข่มขืนกระทำชำเราผู้อื่นโดยขู่เข็ญด้วยประก...</td>\n",
       "      <td>120</td>\n",
       "      <td>ผู้ใดข่มขืนกระทำชำเราผู้อื่นโดยขู่เข็ญด้วยประก...</td>\n",
       "      <td>ผู้ใด ข่มขืนกระทำชำเรา ผู้อื่น โดย ขู่เข็ญ ด้ว...</td>\n",
       "    </tr>\n",
       "    <tr>\n",
       "      <th>1</th>\n",
       "      <td>1</td>\n",
       "      <td>277</td>\n",
       "      <td>ผู้ใดกระทำชำเราเด็กอายุยังไม่เกินสิบห้าปีซึ่งม...</td>\n",
       "      <td>183</td>\n",
       "      <td>ผู้ใดกระทำชำเราเด็กอายุยังไม่เกินสิบห้าปีซึ่งม...</td>\n",
       "      <td>ผู้ใด กระทำชำเรา เด็ก อายุ ยัง ไม่ เกิน สิบห้า...</td>\n",
       "    </tr>\n",
       "    <tr>\n",
       "      <th>2</th>\n",
       "      <td>2</td>\n",
       "      <td>277ทวิ(1)</td>\n",
       "      <td>ผู้ใดข่มขืนกระทำชำเราผู้อื่นโดยขู่เข็ญด้วยประก...</td>\n",
       "      <td>89</td>\n",
       "      <td>ผู้ใดข่มขืนกระทำชำเราผู้อื่นโดยขู่เข็ญด้วยประก...</td>\n",
       "      <td>ผู้ใด ข่มขืนกระทำชำเรา ผู้อื่น โดย ขู่เข็ญ ด้ว...</td>\n",
       "    </tr>\n",
       "    <tr>\n",
       "      <th>3</th>\n",
       "      <td>3</td>\n",
       "      <td>277ทวิ(2)</td>\n",
       "      <td>ผู้ใดข่มขืนกระทำชำเราผู้อื่นโดยขู่เข็ญด้วยประก...</td>\n",
       "      <td>92</td>\n",
       "      <td>ผู้ใดข่มขืนกระทำชำเราผู้อื่นโดยขู่เข็ญด้วยประก...</td>\n",
       "      <td>ผู้ใด ข่มขืนกระทำชำเรา ผู้อื่น โดย ขู่เข็ญ ด้ว...</td>\n",
       "    </tr>\n",
       "    <tr>\n",
       "      <th>4</th>\n",
       "      <td>4</td>\n",
       "      <td>277ตรี(1)</td>\n",
       "      <td>ถ้าการกระทำความผิดตามวรรคหนึ่งได้กระทำโดยมีหรื...</td>\n",
       "      <td>82</td>\n",
       "      <td>ถ้าการกระทำความผิดตามวรรคหนึ่งได้กระทำโดยมีหรื...</td>\n",
       "      <td>ถ้า การ กระทำความผิด ตาม วรรค หนึ่ง ได้ กระทำ ...</td>\n",
       "    </tr>\n",
       "  </tbody>\n",
       "</table>\n",
       "</div>"
      ],
      "text/plain": [
       "   Unnamed: 0         NO                                               Text  \\\n",
       "0           0        276  ผู้ใดข่มขืนกระทำชำเราผู้อื่นโดยขู่เข็ญด้วยประก...   \n",
       "1           1        277  ผู้ใดกระทำชำเราเด็กอายุยังไม่เกินสิบห้าปีซึ่งม...   \n",
       "2           2  277ทวิ(1)  ผู้ใดข่มขืนกระทำชำเราผู้อื่นโดยขู่เข็ญด้วยประก...   \n",
       "3           3  277ทวิ(2)  ผู้ใดข่มขืนกระทำชำเราผู้อื่นโดยขู่เข็ญด้วยประก...   \n",
       "4           4  277ตรี(1)  ถ้าการกระทำความผิดตามวรรคหนึ่งได้กระทำโดยมีหรื...   \n",
       "\n",
       "   word_count                                      text_no_space  \\\n",
       "0         120  ผู้ใดข่มขืนกระทำชำเราผู้อื่นโดยขู่เข็ญด้วยประก...   \n",
       "1         183  ผู้ใดกระทำชำเราเด็กอายุยังไม่เกินสิบห้าปีซึ่งม...   \n",
       "2          89  ผู้ใดข่มขืนกระทำชำเราผู้อื่นโดยขู่เข็ญด้วยประก...   \n",
       "3          92  ผู้ใดข่มขืนกระทำชำเราผู้อื่นโดยขู่เข็ญด้วยประก...   \n",
       "4          82  ถ้าการกระทำความผิดตามวรรคหนึ่งได้กระทำโดยมีหรื...   \n",
       "\n",
       "                                   text_space_pythai  \n",
       "0  ผู้ใด ข่มขืนกระทำชำเรา ผู้อื่น โดย ขู่เข็ญ ด้ว...  \n",
       "1  ผู้ใด กระทำชำเรา เด็ก อายุ ยัง ไม่ เกิน สิบห้า...  \n",
       "2  ผู้ใด ข่มขืนกระทำชำเรา ผู้อื่น โดย ขู่เข็ญ ด้ว...  \n",
       "3  ผู้ใด ข่มขืนกระทำชำเรา ผู้อื่น โดย ขู่เข็ญ ด้ว...  \n",
       "4  ถ้า การ กระทำความผิด ตาม วรรค หนึ่ง ได้ กระทำ ...  "
      ]
     },
     "execution_count": 36,
     "metadata": {},
     "output_type": "execute_result"
    }
   ],
   "source": [
    "df.head()"
   ]
  },
  {
   "cell_type": "code",
   "execution_count": 37,
   "metadata": {},
   "outputs": [
    {
     "data": {
      "text/plain": [
       "count     131.000000\n",
       "mean       69.709924\n",
       "std       120.649874\n",
       "min         2.000000\n",
       "25%        27.000000\n",
       "50%        48.000000\n",
       "75%        77.500000\n",
       "max      1193.000000\n",
       "Name: word_count, dtype: float64"
      ]
     },
     "execution_count": 37,
     "metadata": {},
     "output_type": "execute_result"
    }
   ],
   "source": [
    "df.word_count.describe()"
   ]
  },
  {
   "cell_type": "code",
   "execution_count": 38,
   "metadata": {},
   "outputs": [],
   "source": [
    "freq = pd.Series(''.join(df['text_space_pythai']).split()).value_counts()"
   ]
  },
  {
   "cell_type": "code",
   "execution_count": 39,
   "metadata": {},
   "outputs": [],
   "source": [
    "word_freq_df = pd.read_csv('./final_process/word_freq_filtered.csv', header=-1)"
   ]
  },
  {
   "cell_type": "code",
   "execution_count": 40,
   "metadata": {},
   "outputs": [
    {
     "data": {
      "text/html": [
       "<div>\n",
       "<style scoped>\n",
       "    .dataframe tbody tr th:only-of-type {\n",
       "        vertical-align: middle;\n",
       "    }\n",
       "\n",
       "    .dataframe tbody tr th {\n",
       "        vertical-align: top;\n",
       "    }\n",
       "\n",
       "    .dataframe thead th {\n",
       "        text-align: right;\n",
       "    }\n",
       "</style>\n",
       "<table border=\"1\" class=\"dataframe\">\n",
       "  <thead>\n",
       "    <tr style=\"text-align: right;\">\n",
       "      <th></th>\n",
       "      <th>0</th>\n",
       "      <th>1</th>\n",
       "    </tr>\n",
       "  </thead>\n",
       "  <tbody>\n",
       "    <tr>\n",
       "      <th>0</th>\n",
       "      <td>,</td>\n",
       "      <td>12</td>\n",
       "    </tr>\n",
       "    <tr>\n",
       "      <th>1</th>\n",
       "      <td>ๆ</td>\n",
       "      <td>23</td>\n",
       "    </tr>\n",
       "    <tr>\n",
       "      <th>2</th>\n",
       "      <td>ๆ</td>\n",
       "      <td>3</td>\n",
       "    </tr>\n",
       "    <tr>\n",
       "      <th>3</th>\n",
       "      <td>ก็ดี</td>\n",
       "      <td>3</td>\n",
       "    </tr>\n",
       "    <tr>\n",
       "      <th>4</th>\n",
       "      <td>ก็ดี</td>\n",
       "      <td>1</td>\n",
       "    </tr>\n",
       "  </tbody>\n",
       "</table>\n",
       "</div>"
      ],
      "text/plain": [
       "      0   1\n",
       "0     ,  12\n",
       "1     ๆ  23\n",
       "2     ๆ   3\n",
       "3  ก็ดี   3\n",
       "4  ก็ดี   1"
      ]
     },
     "execution_count": 40,
     "metadata": {},
     "output_type": "execute_result"
    }
   ],
   "source": [
    "word_freq_df.head()"
   ]
  },
  {
   "cell_type": "code",
   "execution_count": 41,
   "metadata": {},
   "outputs": [],
   "source": [
    "filtered_dict = {}\n",
    "\n",
    "for idx, row in word_freq_df.iterrows():\n",
    "    if len(row[0]) > 1:\n",
    "        if row[0] in filtered_dict:\n",
    "            filtered_dict[row[0]] += row[1]\n",
    "        else:\n",
    "            filtered_dict[row[0]] = row[1]"
   ]
  },
  {
   "cell_type": "code",
   "execution_count": 44,
   "metadata": {},
   "outputs": [],
   "source": [
    "f = open('./final_process/dict.txt', 'w')\n",
    "\n",
    "for i in filtered_dict:\n",
    "    f.write(i + '\\n')"
   ]
  },
  {
   "cell_type": "code",
   "execution_count": 47,
   "metadata": {},
   "outputs": [
    {
     "ename": "ModuleNotFoundError",
     "evalue": "No module named 'wordcut'",
     "output_type": "error",
     "traceback": [
      "\u001b[0;31m---------------------------------------------------------------------------\u001b[0m",
      "\u001b[0;31mModuleNotFoundError\u001b[0m                       Traceback (most recent call last)",
      "\u001b[0;32m<ipython-input-47-aabfa1bc7d3b>\u001b[0m in \u001b[0;36m<module>\u001b[0;34m\u001b[0m\n\u001b[0;32m----> 1\u001b[0;31m \u001b[0;32mfrom\u001b[0m \u001b[0mwordcut\u001b[0m \u001b[0;32mimport\u001b[0m \u001b[0mWordcut\u001b[0m\u001b[0;34m\u001b[0m\u001b[0;34m\u001b[0m\u001b[0m\n\u001b[0m\u001b[1;32m      2\u001b[0m \u001b[0;34m\u001b[0m\u001b[0m\n\u001b[1;32m      3\u001b[0m \u001b[0;31m# with open('./final_process/dict.txt', encoding=\"UTF-8\") as dict_file:\u001b[0m\u001b[0;34m\u001b[0m\u001b[0;34m\u001b[0m\u001b[0;34m\u001b[0m\u001b[0m\n\u001b[1;32m      4\u001b[0m \u001b[0;31m#     word_list = list(set([w.rstrip() for w in dict_file.readlines()]))\u001b[0m\u001b[0;34m\u001b[0m\u001b[0;34m\u001b[0m\u001b[0;34m\u001b[0m\u001b[0m\n\u001b[1;32m      5\u001b[0m \u001b[0;31m#     wordcut = Wordcut(word_list)\u001b[0m\u001b[0;34m\u001b[0m\u001b[0;34m\u001b[0m\u001b[0;34m\u001b[0m\u001b[0m\n",
      "\u001b[0;31mModuleNotFoundError\u001b[0m: No module named 'wordcut'"
     ]
    }
   ],
   "source": [
    "from wordcut import Wordcut\n",
    "\n",
    "# with open('./final_process/dict.txt', encoding=\"UTF-8\") as dict_file:\n",
    "#     word_list = list(set([w.rstrip() for w in dict_file.readlines()]))\n",
    "#     wordcut = Wordcut(word_list)\n",
    "#     print(wordcut.tokenize(\"กากา cat หมา\"))"
   ]
  },
  {
   "cell_type": "code",
   "execution_count": null,
   "metadata": {},
   "outputs": [],
   "source": []
  }
 ],
 "metadata": {
  "kernelspec": {
   "display_name": "Python 3",
   "language": "python",
   "name": "python3"
  },
  "language_info": {
   "codemirror_mode": {
    "name": "ipython",
    "version": 3
   },
   "file_extension": ".py",
   "mimetype": "text/x-python",
   "name": "python",
   "nbconvert_exporter": "python",
   "pygments_lexer": "ipython3",
   "version": "3.7.2"
  }
 },
 "nbformat": 4,
 "nbformat_minor": 2
}
