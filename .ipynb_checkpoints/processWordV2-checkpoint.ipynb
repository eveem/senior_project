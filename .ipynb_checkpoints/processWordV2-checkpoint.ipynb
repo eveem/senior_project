{
 "cells": [
  {
   "cell_type": "code",
   "execution_count": 54,
   "metadata": {},
   "outputs": [],
   "source": [
    "import pandas as pd\n",
    "\n",
    "df = pd.read_csv('project_words_edit.csv')"
   ]
  },
  {
   "cell_type": "code",
   "execution_count": 55,
   "metadata": {},
   "outputs": [],
   "source": [
    "import math"
   ]
  },
  {
   "cell_type": "code",
   "execution_count": 56,
   "metadata": {},
   "outputs": [
    {
     "data": {
      "text/html": [
       "<div>\n",
       "<style scoped>\n",
       "    .dataframe tbody tr th:only-of-type {\n",
       "        vertical-align: middle;\n",
       "    }\n",
       "\n",
       "    .dataframe tbody tr th {\n",
       "        vertical-align: top;\n",
       "    }\n",
       "\n",
       "    .dataframe thead th {\n",
       "        text-align: right;\n",
       "    }\n",
       "</style>\n",
       "<table border=\"1\" class=\"dataframe\">\n",
       "  <thead>\n",
       "    <tr style=\"text-align: right;\">\n",
       "      <th></th>\n",
       "      <th>Penal No.</th>\n",
       "      <th>Verb</th>\n",
       "      <th>Noun</th>\n",
       "      <th>Extra</th>\n",
       "      <th>Inherit [เอา v + n ข้อนั้น แต่ต้อง ^ extra]</th>\n",
       "    </tr>\n",
       "  </thead>\n",
       "  <tbody>\n",
       "    <tr>\n",
       "      <th>0</th>\n",
       "      <td>107</td>\n",
       "      <td>ปลงพระชนม์</td>\n",
       "      <td>พระมหากษัตริย์</td>\n",
       "      <td>พยายาม, ตระเตรียม, ปกปิด</td>\n",
       "      <td>NaN</td>\n",
       "    </tr>\n",
       "    <tr>\n",
       "      <th>1</th>\n",
       "      <td>108</td>\n",
       "      <td>ประทุษร้าย</td>\n",
       "      <td>พระมหากษัตริย์</td>\n",
       "      <td>พยายาม, ตระเตรียม, ปกปิด</td>\n",
       "      <td>NaN</td>\n",
       "    </tr>\n",
       "    <tr>\n",
       "      <th>2</th>\n",
       "      <td>109</td>\n",
       "      <td>ปลงพระชนม์, ฆ่า</td>\n",
       "      <td>ราชินี, รัชทายาท, ผู้สำเร็จราชการแทนพระองค์</td>\n",
       "      <td>พยายาม, ตระเตรียม, ปกปิด</td>\n",
       "      <td>NaN</td>\n",
       "    </tr>\n",
       "    <tr>\n",
       "      <th>3</th>\n",
       "      <td>110</td>\n",
       "      <td>ประทุษร้าย</td>\n",
       "      <td>ราชินี, รัชทายาท, ผู้สำเร็จราชการแทนพระองค์</td>\n",
       "      <td>พยายาม, ตระเตรียม, ปกปิด</td>\n",
       "      <td>NaN</td>\n",
       "    </tr>\n",
       "    <tr>\n",
       "      <th>4</th>\n",
       "      <td>111</td>\n",
       "      <td>NaN</td>\n",
       "      <td>NaN</td>\n",
       "      <td>สนับสนุน</td>\n",
       "      <td>107, 108, 109, 110</td>\n",
       "    </tr>\n",
       "  </tbody>\n",
       "</table>\n",
       "</div>"
      ],
      "text/plain": [
       "  Penal No.             Verb                                         Noun  \\\n",
       "0       107       ปลงพระชนม์                               พระมหากษัตริย์   \n",
       "1       108       ประทุษร้าย                               พระมหากษัตริย์   \n",
       "2       109  ปลงพระชนม์, ฆ่า  ราชินี, รัชทายาท, ผู้สำเร็จราชการแทนพระองค์   \n",
       "3       110       ประทุษร้าย  ราชินี, รัชทายาท, ผู้สำเร็จราชการแทนพระองค์   \n",
       "4       111              NaN                                          NaN   \n",
       "\n",
       "                      Extra Inherit [เอา v + n ข้อนั้น แต่ต้อง ^ extra]  \n",
       "0  พยายาม, ตระเตรียม, ปกปิด                                         NaN  \n",
       "1  พยายาม, ตระเตรียม, ปกปิด                                         NaN  \n",
       "2  พยายาม, ตระเตรียม, ปกปิด                                         NaN  \n",
       "3  พยายาม, ตระเตรียม, ปกปิด                                         NaN  \n",
       "4                  สนับสนุน                          107, 108, 109, 110  "
      ]
     },
     "execution_count": 56,
     "metadata": {},
     "output_type": "execute_result"
    }
   ],
   "source": [
    "df.head()"
   ]
  },
  {
   "cell_type": "code",
   "execution_count": 57,
   "metadata": {},
   "outputs": [],
   "source": [
    "words = set()\n",
    "\n",
    "wo1 = set()\n",
    "wo2 = set()\n",
    "wo3 = set()\n",
    "wo4 = set()\n",
    "\n",
    "for idx, row in df.iterrows():\n",
    "    ck = False\n",
    "    try:\n",
    "        ck = math.isnan(row['Verb'])\n",
    "    except:\n",
    "        ck = False\n",
    "    if not ck:\n",
    "        try:\n",
    "            v = row['Verb'].split(', ')\n",
    "        except:\n",
    "            v = row['Verb']\n",
    "    else:\n",
    "        continue\n",
    "\n",
    "    for word in v:\n",
    "        if (idx >= 161 and idx <= 171):\n",
    "            wo1.add(word)\n",
    "        if (idx >= 229 and idx <= 263):\n",
    "            wo2.add(word)\n",
    "        if (idx >= 264 and idx <= 289):\n",
    "            wo3.add(word)\n",
    "        if (idx >= 290 and idx <= 334):\n",
    "            wo4.add(word)\n",
    "        words.add(word)\n",
    "        \n",
    "    ck = False\n",
    "    try:\n",
    "        ck = math.isnan(row['Noun'])\n",
    "    except:\n",
    "        ck = False\n",
    "    if not ck:\n",
    "        try:\n",
    "            v = row['Noun'].split(', ')\n",
    "        except:\n",
    "            v = row['Noun']\n",
    "    else:\n",
    "        continue\n",
    "\n",
    "    for word in v:\n",
    "        if (idx >= 161 and idx <= 171):\n",
    "            wo1.add(word)\n",
    "        if (idx >= 229 and idx <= 263):\n",
    "            wo2.add(word)\n",
    "        if (idx >= 264 and idx <= 289):\n",
    "            wo3.add(word)\n",
    "        if (idx >= 290 and idx <= 334):\n",
    "            wo4.add(word)\n",
    "        words.add(word)\n",
    "\n",
    "    ck = False\n",
    "    try:\n",
    "        ck = math.isnan(row['Extra'])\n",
    "    except:\n",
    "        ck = False\n",
    "    if not ck:\n",
    "        try:\n",
    "            v = row['Extra'].split(', ')\n",
    "        except:\n",
    "            v = row['Extra']\n",
    "    else:\n",
    "        continue\n",
    "\n",
    "    for word in v:\n",
    "        if (idx >= 161 and idx <= 171):\n",
    "            wo1.add(word)\n",
    "        if (idx >= 229 and idx <= 263):\n",
    "            wo2.add(word)\n",
    "        if (idx >= 264 and idx <= 289):\n",
    "            wo3.add(word)\n",
    "        if (idx >= 290 and idx <= 334):\n",
    "            wo4.add(word)\n",
    "        words.add(word)"
   ]
  },
  {
   "cell_type": "code",
   "execution_count": 58,
   "metadata": {},
   "outputs": [
    {
     "data": {
      "text/plain": [
       "{'กระทำชำเรา',\n",
       " 'การอนาจาร',\n",
       " 'ขู่เข็ญ',\n",
       " 'ข่มขืน',\n",
       " 'ความใคร่',\n",
       " 'จัดหา',\n",
       " 'ดำรงชีพอยู่',\n",
       " 'ถึงแก่ความตาย',\n",
       " 'ทำอนาจาร',\n",
       " 'ผู้ซึ่งค้าประเวณี',\n",
       " 'ผู้สืบสันดาน',\n",
       " 'ผู้อยู่ในความควบคุม',\n",
       " 'พาไป',\n",
       " 'รับอันตรายสาหัส',\n",
       " 'ล่อไป',\n",
       " 'ศิษย์',\n",
       " 'สนอง',\n",
       " 'อนาจาร',\n",
       " 'โทรม',\n",
       " 'ใช้กำลัง'}"
      ]
     },
     "execution_count": 58,
     "metadata": {},
     "output_type": "execute_result"
    }
   ],
   "source": [
    "wo1"
   ]
  },
  {
   "cell_type": "code",
   "execution_count": 27,
   "metadata": {},
   "outputs": [
    {
     "data": {
      "text/plain": [
       "{'ฆ่า',\n",
       " 'ช่วย',\n",
       " 'ดูแล',\n",
       " 'ทอดทิ้ง',\n",
       " 'ทำ',\n",
       " 'ทำร้าย',\n",
       " 'ทำร้้าย',\n",
       " 'เข้าร่วม',\n",
       " 'เจตนาฆ่า',\n",
       " 'แท้ง'}"
      ]
     },
     "execution_count": 27,
     "metadata": {},
     "output_type": "execute_result"
    }
   ],
   "source": [
    "wo2"
   ]
  },
  {
   "cell_type": "code",
   "execution_count": 28,
   "metadata": {},
   "outputs": [
    {
     "data": {
      "text/plain": [
       "{'กักขัง',\n",
       " 'ข่มขืน',\n",
       " 'ทำ',\n",
       " 'ทำ ',\n",
       " 'พราก',\n",
       " 'ล่วงรู้',\n",
       " 'ล่่วงรู้',\n",
       " 'สนับสนุน',\n",
       " 'หน่วงเหนี่ยว',\n",
       " 'หมิ่น',\n",
       " 'หมิ่นประมาท',\n",
       " 'หลอกลวง',\n",
       " 'อุบาย',\n",
       " 'เปิดผนึก',\n",
       " 'แสดง',\n",
       " 'ใส่ความ'}"
      ]
     },
     "execution_count": 28,
     "metadata": {},
     "output_type": "execute_result"
    }
   ],
   "source": [
    "wo3"
   ]
  },
  {
   "cell_type": "code",
   "execution_count": 29,
   "metadata": {},
   "outputs": [
    {
     "data": {
      "text/plain": [
       "{'ข่มขืน',\n",
       " 'ครอบครอง',\n",
       " 'ควบคุม',\n",
       " 'ฉ้อโกง',\n",
       " 'ชิงทรัพย์',\n",
       " 'ช่วย',\n",
       " 'ซื้อ',\n",
       " 'ซ่อตัว',\n",
       " 'ถาม',\n",
       " 'ถือเอา',\n",
       " 'ทราบ',\n",
       " 'ทะเลาะ',\n",
       " 'ทำ',\n",
       " 'ทุจริต',\n",
       " 'พก',\n",
       " 'มอบหมาย',\n",
       " 'ยิง',\n",
       " 'ลักทรัพย์',\n",
       " 'ส่งเสียง',\n",
       " 'เก็บได้',\n",
       " 'เข้าไป',\n",
       " 'เห็น',\n",
       " 'แสดง'}"
      ]
     },
     "execution_count": 29,
     "metadata": {},
     "output_type": "execute_result"
    }
   ],
   "source": [
    "wo4"
   ]
  },
  {
   "cell_type": "code",
   "execution_count": 32,
   "metadata": {},
   "outputs": [],
   "source": [
    "new_dict = wo1 | wo2 | wo3 | wo4"
   ]
  },
  {
   "cell_type": "code",
   "execution_count": 42,
   "metadata": {},
   "outputs": [],
   "source": [
    "# f = open('new_dict.txt', 'w+')\n",
    "# for i in new_dict:\n",
    "#     f.write(i + '\\n')"
   ]
  },
  {
   "cell_type": "code",
   "execution_count": 48,
   "metadata": {},
   "outputs": [],
   "source": [
    "from pythainlp.tokenize import dict_word_tokenize, create_custom_dict_trie\n",
    "data_dict = create_custom_dict_trie(\"new_dict.txt\")"
   ]
  },
  {
   "cell_type": "code",
   "execution_count": 49,
   "metadata": {},
   "outputs": [],
   "source": [
    "df = pd.read_csv('police_record.csv')"
   ]
  },
  {
   "cell_type": "code",
   "execution_count": 52,
   "metadata": {},
   "outputs": [
    {
     "name": "stdout",
     "output_type": "stream",
     "text": [
      "ทำ\n",
      "ฉ้อโกง\n",
      "ฉ้อโกง\n",
      "ทำ\n",
      "ทำ\n",
      "ทำ\n",
      "ทราบ\n",
      "ทำ\n",
      "ทำ\n",
      "ฉ้อโกง\n",
      "ทำ\n",
      "ทำ\n",
      "หมิ่นประมาท\n",
      "ทำ\n",
      "พราก\n",
      "ดูแล\n",
      "อนาจาร\n",
      "กระทำชำเรา\n",
      "ใช้กำลัง\n",
      "ทำ\n",
      "โทรม\n",
      "หน่วงเหนี่ยว\n",
      "ทำ\n",
      "ชิงทรัพย์\n",
      "ทำ\n",
      "ทำร้าย\n",
      "ครอบครอง\n",
      "ทำ\n",
      "ทำ\n",
      "ลักทรัพย์\n",
      "ทำ\n",
      "ลักทรัพย์\n",
      "ทำ\n",
      "ทำ\n",
      "ฉ้อโกง\n",
      "ทำ\n",
      "ลักทรัพย์\n",
      "ทำ\n",
      "เข้าไป\n",
      "ทำ\n",
      "ลักทรัพย์\n",
      "ทำ\n",
      "เข้าไป\n",
      "ทำ\n",
      "ทำ\n",
      "ลักทรัพย์\n",
      "ทราบ\n",
      "ทำ\n",
      "ข่มขืน\n",
      "กระทำชำเรา\n",
      "ใช้กำลัง\n",
      "ทำ\n",
      "ทำ\n",
      "ทำ\n",
      "ลักทรัพย์\n",
      "ทำ\n",
      "ทำ\n",
      "ทำ\n",
      "ทำ\n",
      "ลักทรัพย์\n",
      "ทราบ\n",
      "ทำ\n",
      "หมิ่นประมาท\n",
      "ทำ\n",
      "ทำ\n",
      "ลักทรัพย์\n",
      "ทราบ\n",
      "ทำ\n",
      "ลักทรัพย์\n",
      "ทำ\n",
      "ทำ\n",
      "ทำ\n",
      "ลักทรัพย์\n",
      "ทำ\n",
      "ทำ\n",
      "ทำ\n",
      "ฉ้อโกง\n",
      "ทำ\n",
      "ทำ\n",
      "ครอบครอง\n",
      "ทำ\n"
     ]
    }
   ],
   "source": [
    "for idx, row in df.iterrows():\n",
    "    text = row['Conclusion']\n",
    "    words = dict_word_tokenize(text, data_dict, engine='newmm')\n",
    "    for word in words:\n",
    "        if word in new_dict:\n",
    "            print(word)"
   ]
  },
  {
   "cell_type": "code",
   "execution_count": null,
   "metadata": {},
   "outputs": [],
   "source": []
  }
 ],
 "metadata": {
  "kernelspec": {
   "display_name": "Python 3",
   "language": "python",
   "name": "python3"
  },
  "language_info": {
   "codemirror_mode": {
    "name": "ipython",
    "version": 3
   },
   "file_extension": ".py",
   "mimetype": "text/x-python",
   "name": "python",
   "nbconvert_exporter": "python",
   "pygments_lexer": "ipython3",
   "version": "3.7.2"
  }
 },
 "nbformat": 4,
 "nbformat_minor": 2
}
